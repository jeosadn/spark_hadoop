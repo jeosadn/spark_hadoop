{
 "cells": [
  {
   "cell_type": "markdown",
   "metadata": {},
   "source": [
    "# Spark Hadoop Demo"
   ]
  },
  {
   "cell_type": "markdown",
   "metadata": {},
   "source": [
    "## Install Hadoop\n",
    "\n",
    "Follow the tutorial at https://www.edureka.co/blog/install-hadoop-single-node-hadoop-cluster\n",
    "* Download and install JDK 8u101 (from https://www.oracle.com/technetwork/java/javase/downloads/java-archive-javase8-2177648.html , the version from the tutorial doesn't work)\n",
    "* Download and install Hadoop\n",
    "* Configure environment for use\n",
    "   * This configuration consists of editing xml files so that Hadoop creates a single node environment. They're pretty easy to follow\n",
    "   * Before starting the daemons, run the command `sudo apt-get install openssh-client openssh-server`. This is required to open port 22\n",
    "   * At the end of this tutorial, you will have a Hadoop instance running. Browse to http://localhost:50070/dfshealth.html to study it\n",
    "\n",
    "## Install Spark\n",
    "\n",
    "Follow the tutorial at https://www.edureka.co/blog/spark-tutorial/\n",
    "* Java is already installed from the previous step\n",
    "* spark-shell to run commands interactively\n",
    "\n",
    "\n",
    "\n"
   ]
  },
  {
   "cell_type": "markdown",
   "metadata": {},
   "source": [
    "## Hadoop Demo\n",
    "\n",
    "Now that the Hadoop services are running, you can insert data into the HDFS\n",
    "\n",
    "`$ hadoop fs -mkdir /input`\n",
    "\n",
    "`$ hadoop fs -put input.csv /input/.`"
   ]
  },
  {
   "cell_type": "code",
   "execution_count": null,
   "metadata": {},
   "outputs": [],
   "source": []
  }
 ],
 "metadata": {
  "kernelspec": {
   "display_name": "Python 3",
   "language": "python",
   "name": "python3"
  },
  "language_info": {
   "codemirror_mode": {
    "name": "ipython",
    "version": 3
   },
   "file_extension": ".py",
   "mimetype": "text/x-python",
   "name": "python",
   "nbconvert_exporter": "python",
   "pygments_lexer": "ipython3",
   "version": "3.7.3"
  }
 },
 "nbformat": 4,
 "nbformat_minor": 2
}
